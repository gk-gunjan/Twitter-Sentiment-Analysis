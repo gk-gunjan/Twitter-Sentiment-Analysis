{
 "cells": [
  {
   "cell_type": "code",
   "execution_count": 1,
   "id": "2f4c17a6",
   "metadata": {},
   "outputs": [],
   "source": [
    "import numpy as np\n",
    "import pandas as pd\n",
    "from sklearn.feature_extraction.text import CountVectorizer"
   ]
  },
  {
   "cell_type": "code",
   "execution_count": 2,
   "id": "06043ccb",
   "metadata": {},
   "outputs": [],
   "source": [
    "train_data=pd.read_csv('x_train.csv')\n",
    "test_data=pd.read_csv('x_test.csv')"
   ]
  },
  {
   "cell_type": "code",
   "execution_count": 3,
   "id": "69cd723d",
   "metadata": {},
   "outputs": [],
   "source": [
    "#train_data.head()"
   ]
  },
  {
   "cell_type": "code",
   "execution_count": 4,
   "id": "b576ea5f",
   "metadata": {},
   "outputs": [],
   "source": [
    "train_data.drop(['tweet_id','airline','airline_sentiment_gold','name','negativereason_gold','retweet_count','tweet_coord','tweet_created','tweet_location','user_timezone'],axis=1,inplace=True)"
   ]
  },
  {
   "cell_type": "code",
   "execution_count": 5,
   "id": "89539f29",
   "metadata": {},
   "outputs": [],
   "source": [
    "#train_data.head()"
   ]
  },
  {
   "cell_type": "code",
   "execution_count": 6,
   "id": "7e088f58",
   "metadata": {},
   "outputs": [],
   "source": [
    "test_data.drop(['tweet_id','airline','airline_sentiment_gold','name','negativereason_gold','retweet_count','tweet_coord','tweet_created','tweet_location','user_timezone'],axis=1,inplace=True)"
   ]
  },
  {
   "cell_type": "code",
   "execution_count": 7,
   "id": "faa9872f",
   "metadata": {},
   "outputs": [],
   "source": [
    "#test_data.head()"
   ]
  },
  {
   "cell_type": "code",
   "execution_count": 8,
   "id": "8618f033",
   "metadata": {},
   "outputs": [],
   "source": [
    "train_data=train_data.values\n",
    "test_data=test_data.values"
   ]
  },
  {
   "cell_type": "code",
   "execution_count": 9,
   "id": "386e619d",
   "metadata": {},
   "outputs": [],
   "source": [
    "#train_data"
   ]
  },
  {
   "cell_type": "code",
   "execution_count": 10,
   "id": "0aec0b06",
   "metadata": {},
   "outputs": [],
   "source": [
    "from nltk.tokenize import word_tokenize"
   ]
  },
  {
   "cell_type": "code",
   "execution_count": 11,
   "id": "4145508c",
   "metadata": {},
   "outputs": [],
   "source": [
    "training_words=[]\n",
    "testing_words=[]"
   ]
  },
  {
   "cell_type": "code",
   "execution_count": 12,
   "id": "58b9a4c2",
   "metadata": {},
   "outputs": [],
   "source": [
    "for data in train_data:\n",
    "    word=data[1]\n",
    "    clean_word=word_tokenize(word)\n",
    "    training_words.append((clean_word,data[0]))\n",
    "\n",
    "for data in test_data:\n",
    "    word=data[0]\n",
    "    clean_word=word_tokenize(word)\n",
    "    testing_words.append(clean_word)"
   ]
  },
  {
   "cell_type": "code",
   "execution_count": 13,
   "id": "4b95982f",
   "metadata": {},
   "outputs": [],
   "source": [
    "#training_words"
   ]
  },
  {
   "cell_type": "code",
   "execution_count": 14,
   "id": "06570242",
   "metadata": {},
   "outputs": [],
   "source": [
    "from nltk.corpus import stopwords\n",
    "import string"
   ]
  },
  {
   "cell_type": "code",
   "execution_count": 15,
   "id": "6d8b552d",
   "metadata": {},
   "outputs": [
    {
     "data": {
      "text/plain": [
       "211"
      ]
     },
     "execution_count": 15,
     "metadata": {},
     "output_type": "execute_result"
    }
   ],
   "source": [
    "stops=set(stopwords.words('english'))\n",
    "punctuations=string.punctuation\n",
    "stops.update(punctuations)\n",
    "len(stops)"
   ]
  },
  {
   "cell_type": "code",
   "execution_count": 16,
   "id": "5ad8814d",
   "metadata": {},
   "outputs": [],
   "source": [
    "from nltk.corpus import wordnet #for pos start with part of speech tag\n",
    "from nltk.stem import WordNetLemmatizer #lemmatize word with same meaning \n",
    "from nltk import pos_tag #part of speech tag"
   ]
  },
  {
   "cell_type": "code",
   "execution_count": 17,
   "id": "859b4629",
   "metadata": {},
   "outputs": [],
   "source": [
    "lemmatizer = WordNetLemmatizer()"
   ]
  },
  {
   "cell_type": "code",
   "execution_count": 18,
   "id": "88f3c34d",
   "metadata": {},
   "outputs": [
    {
     "data": {
      "text/plain": [
       "[('better', 'RBR')]"
      ]
     },
     "execution_count": 18,
     "metadata": {},
     "output_type": "execute_result"
    }
   ],
   "source": [
    "a='better'\n",
    "pos_tag([a]) #pos_tag[0][1] for getting part of speech"
   ]
  },
  {
   "cell_type": "code",
   "execution_count": 19,
   "id": "e3d6cacc",
   "metadata": {},
   "outputs": [],
   "source": [
    "def get_simple_pos(tag):\n",
    "    if tag.startswith('J'):\n",
    "        return wordnet.ADJ\n",
    "    elif tag.startswith('V'):\n",
    "        return wordnet.VERB\n",
    "    elif tag.startswith('N'):\n",
    "        return wordnet.NOUN\n",
    "    elif tag.startswith('R'):\n",
    "        return wordnet.ADV\n",
    "    else:\n",
    "        return wordnet.NOUN"
   ]
  },
  {
   "cell_type": "code",
   "execution_count": 20,
   "id": "96832113",
   "metadata": {},
   "outputs": [],
   "source": [
    "def clean_words(words):\n",
    "    output_words=[]\n",
    "    for w in words:\n",
    "        if w.lower() not in stops:\n",
    "            pos=pos_tag([w]) #for pos_tag in word rather than string\n",
    "            clean_word=lemmatizer.lemmatize(w,pos=get_simple_pos(pos[0][1]))\n",
    "            output_words.append(clean_word.lower())\n",
    "    return output_words"
   ]
  },
  {
   "cell_type": "code",
   "execution_count": 21,
   "id": "58c3f8fd",
   "metadata": {},
   "outputs": [],
   "source": [
    "#training_words[0]"
   ]
  },
  {
   "cell_type": "code",
   "execution_count": 22,
   "id": "b559c33a",
   "metadata": {},
   "outputs": [],
   "source": [
    "training_doc=[(clean_words(document),category) for document,category in training_words]"
   ]
  },
  {
   "cell_type": "code",
   "execution_count": 24,
   "id": "6b853d1a",
   "metadata": {},
   "outputs": [],
   "source": [
    "testing_doc=[clean_words(words) for words in testing_words]"
   ]
  },
  {
   "cell_type": "code",
   "execution_count": null,
   "id": "aae67e6a",
   "metadata": {},
   "outputs": [],
   "source": [
    "#training_doc[0][0]"
   ]
  },
  {
   "cell_type": "code",
   "execution_count": 25,
   "id": "e1d7dac0",
   "metadata": {},
   "outputs": [],
   "source": [
    "#seperating words form tuple\n",
    "all_words=[]\n",
    "for word in training_doc:\n",
    "    all_words+=word[0]"
   ]
  },
  {
   "cell_type": "code",
   "execution_count": null,
   "id": "b350f924",
   "metadata": {},
   "outputs": [],
   "source": [
    "#all_words"
   ]
  },
  {
   "cell_type": "code",
   "execution_count": null,
   "id": "a09eff95",
   "metadata": {},
   "outputs": [],
   "source": [
    "#get top frequency words"
   ]
  },
  {
   "cell_type": "code",
   "execution_count": 26,
   "id": "521e1b32",
   "metadata": {},
   "outputs": [],
   "source": [
    "import nltk\n",
    "freq=nltk.FreqDist(all_words)\n",
    "most_common_word=freq.most_common(10000)\n",
    "features=[i[0] for i in most_common_word] # we want only word not their frequency"
   ]
  },
  {
   "cell_type": "code",
   "execution_count": null,
   "id": "96016ad3",
   "metadata": {},
   "outputs": [],
   "source": [
    "#most_common_word ,features"
   ]
  },
  {
   "cell_type": "code",
   "execution_count": 27,
   "id": "acbc466f",
   "metadata": {},
   "outputs": [],
   "source": [
    "def get_feature_dict(words): #get true or false values of features in all the documents\n",
    "    curr_features={}\n",
    "    word_set=set(words)\n",
    "    for w in features: #above features\n",
    "        curr_features[w]=w in word_set #add true value to that features which are in word_set otherwise false\n",
    "    return curr_features"
   ]
  },
  {
   "cell_type": "code",
   "execution_count": null,
   "id": "54dd20d3",
   "metadata": {},
   "outputs": [],
   "source": [
    "#get_feature_dict(training_doc[0][0])"
   ]
  },
  {
   "cell_type": "code",
   "execution_count": 28,
   "id": "41ae5f70",
   "metadata": {},
   "outputs": [],
   "source": [
    "training_data=[(get_feature_dict(doc),category) for doc, category in training_doc]\n",
    "testing_data=[(get_feature_dict(doc)) for doc in testing_doc]"
   ]
  },
  {
   "cell_type": "code",
   "execution_count": 35,
   "id": "f1ab36cd",
   "metadata": {},
   "outputs": [],
   "source": [
    "from nltk.classify.scikitlearn import SklearnClassifier \n",
    "from sklearn.ensemble import RandomForestClassifier\n",
    "from sklearn.svm import SVC"
   ]
  },
  {
   "cell_type": "code",
   "execution_count": 36,
   "id": "146e010d",
   "metadata": {},
   "outputs": [],
   "source": [
    "svc=SVC()\n",
    "rfc=RandomForestClassifier()"
   ]
  },
  {
   "cell_type": "code",
   "execution_count": 37,
   "id": "64e6de02",
   "metadata": {},
   "outputs": [],
   "source": [
    "classifier_sklearn_svc=SklearnClassifier(svc)\n",
    "classifier_sklearn_rfc=SklearnClassifier(rfc)"
   ]
  },
  {
   "cell_type": "code",
   "execution_count": 38,
   "id": "0b8cf66f",
   "metadata": {},
   "outputs": [
    {
     "data": {
      "text/plain": [
       "<SklearnClassifier(SVC())>"
      ]
     },
     "execution_count": 38,
     "metadata": {},
     "output_type": "execute_result"
    }
   ],
   "source": [
    "classifier_sklearn_svc.train(training_data)"
   ]
  },
  {
   "cell_type": "code",
   "execution_count": 41,
   "id": "990778d9",
   "metadata": {},
   "outputs": [],
   "source": [
    "predictions=[]\n",
    "for doc in testing_data:\n",
    "    predictions.append(classifier_sklearn_svc.classify(doc))"
   ]
  },
  {
   "cell_type": "code",
   "execution_count": 43,
   "id": "8edb2661",
   "metadata": {},
   "outputs": [],
   "source": [
    "np.savetxt('pred.csv',predictions,fmt='%s')"
   ]
  },
  {
   "cell_type": "code",
   "execution_count": 49,
   "id": "35878289",
   "metadata": {},
   "outputs": [],
   "source": [
    "#using random forest"
   ]
  },
  {
   "cell_type": "code",
   "execution_count": 51,
   "id": "97415641",
   "metadata": {},
   "outputs": [
    {
     "data": {
      "text/plain": [
       "<SklearnClassifier(RandomForestClassifier())>"
      ]
     },
     "execution_count": 51,
     "metadata": {},
     "output_type": "execute_result"
    }
   ],
   "source": [
    "classifier_sklearn_rfc.train(training_data)"
   ]
  },
  {
   "cell_type": "code",
   "execution_count": 52,
   "id": "68fd004d",
   "metadata": {},
   "outputs": [],
   "source": [
    "predictions=[]\n",
    "for doc in testing_data:\n",
    "    predictions.append(classifier_sklearn_rfc.classify(doc))"
   ]
  },
  {
   "cell_type": "code",
   "execution_count": 53,
   "id": "be21a178",
   "metadata": {},
   "outputs": [],
   "source": [
    "np.savetxt('pred_rfc.csv',predictions,fmt='%s')"
   ]
  },
  {
   "cell_type": "code",
   "execution_count": null,
   "id": "e94efded",
   "metadata": {},
   "outputs": [],
   "source": []
  }
 ],
 "metadata": {
  "kernelspec": {
   "display_name": "Python 3",
   "language": "python",
   "name": "python3"
  },
  "language_info": {
   "codemirror_mode": {
    "name": "ipython",
    "version": 3
   },
   "file_extension": ".py",
   "mimetype": "text/x-python",
   "name": "python",
   "nbconvert_exporter": "python",
   "pygments_lexer": "ipython3",
   "version": "3.8.8"
  }
 },
 "nbformat": 4,
 "nbformat_minor": 5
}
